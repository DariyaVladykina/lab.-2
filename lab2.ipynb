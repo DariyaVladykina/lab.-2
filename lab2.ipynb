{
 "cells": [
  {
   "cell_type": "code",
   "execution_count": 1,
   "metadata": {},
   "outputs": [
    {
     "name": "stdout",
     "output_type": "stream",
     "text": [
      "Купить лошадь по кличке Соборович породы Вятская лошадь буланой масти\n"
     ]
    }
   ],
   "source": [
    "class Horse ():\n",
    "    def __init__(self, name, breed, color):\n",
    "        self.name = name\n",
    "        self.breed = breed\n",
    "        self.color = color\n",
    "# создала класс Horses, состоящего из метода инициализации и атрибутов кличка, порода, масть\n",
    "\n",
    "    def buy (self): # придумала метод buy\n",
    "        print(\"Купить лошадь по кличке \" + self.name + \" породы \" + self.breed + self.color + \" масти\")\n",
    "Horse1 = Horse (\"Соборович\", \"Вятская лошадь \", \"буланой\") # создала объекты для класса Horse\n",
    "Horse2 = Horse (\"Дунай\", \"полупони\", \"пегой\")\n",
    "Horse1.buy() # обращаемся к методу bye. Поздравляем, Вы приобрели лошадь!!!"
   ]
  },
  {
   "cell_type": "code",
   "execution_count": 80,
   "metadata": {},
   "outputs": [
    {
     "name": "stdout",
     "output_type": "stream",
     "text": [
      "конкур\n"
     ]
    }
   ],
   "source": [
    "class Pony(Horse): #создаем субкласс пони\n",
    "     def __init__(self, name, breed, color, sports): \n",
    "          super().__init__(name, breed, color) #метод super помогает связать субкласс пони с суперклассом лошадь\n",
    "          self.sports = sports #добавляем атрибут для субкласса\n",
    "Pony1 = Pony (\"Пряник\", \"пони\", \"серая\",\"конкур\")\n",
    "print(Pony1.sports) # только для Вас вторая лошадь абсолютно бесплатно! Она ещё и прыгает через препятствия!"
   ]
  },
  {
   "cell_type": "code",
   "execution_count": null,
   "metadata": {},
   "outputs": [],
   "source": [
    "class Horse ():\n",
    "    def __init__(self, name):\n",
    "        self.name = name\n",
    "#в консоли задала переменную a, её название <__main__.Horse object at 0x000001DEA0B0F1F0>\n",
    "    def __repr__(self):\n",
    "        return f\"The object Horse - {self.name}\"\n",
    "        #название поменялось на заданное мной: The object Horse - Карат\n",
    "    def __str__(self):\n",
    "        return f\"Horse - {self.name}\" #название также поменялось: Horse - Тима\n",
    "    \n"
   ]
  }
 ],
 "metadata": {
  "kernelspec": {
   "display_name": "Python 3.10.7 64-bit",
   "language": "python",
   "name": "python3"
  },
  "language_info": {
   "codemirror_mode": {
    "name": "ipython",
    "version": 3
   },
   "file_extension": ".py",
   "mimetype": "text/x-python",
   "name": "python",
   "nbconvert_exporter": "python",
   "pygments_lexer": "ipython3",
   "version": "3.10.7"
  },
  "orig_nbformat": 4,
  "vscode": {
   "interpreter": {
    "hash": "26de051ba29f2982a8de78e945f0abaf191376122a1563185a90213a26c5da77"
   }
  }
 },
 "nbformat": 4,
 "nbformat_minor": 2
}
